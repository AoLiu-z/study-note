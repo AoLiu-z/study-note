{
 "cells": [
  {
   "cell_type": "code",
   "execution_count": 3,
   "metadata": {},
   "outputs": [
    {
     "name": "stdout",
     "output_type": "stream",
     "text": [
      "根据公司员工请假管理制度，员工请假的流程如下：\n",
      "\n",
      "1. 员工需要提前向部门负责人或部门分管领导递交书面申请，并填写《请假单》。\n",
      "2. 《请假单》需要由职务代理人和主管领导签准后送行政人事部备案。\n",
      "3. 如果是因急事或身体不适临时请假，员工应在上班前电话告知部门主管，返岗后补办请假手续。\n",
      "4. 请假期间所属事务及责任由职务代理人承担。\n",
      "5. 员工休假期满后，须及时到部门负责人或部门分管领导处销假，否则按旷工处理。\n",
      "6. 请假申请经相关领导审批同意后，请假员工须在休假前持《请假单》及时到行政人事部备案，否则请假不予生效。\n"
     ]
    }
   ],
   "source": [
    "from langchain_community.chat_models import ChatTongyi #阿里通义前问的聊天模型\n",
    "from langchain_community.vectorstores import FAISS # FASII向量数据库\n",
    "from langchain_community.embeddings import DashScopeEmbeddings # 阿里的词嵌入\n",
    "from langchain_text_splitters import CharacterTextSplitter # 文本切分工具\n",
    "from langchain_community.document_loaders import TextLoader #读取本地txt文件\n",
    "from langchain.chains import RetrievalQA\n",
    "import os\n",
    "\n",
    "# 加载通义千问API_KEY\n",
    "YOU_API_KEY = os.environ.get(\"DASHSCOPE_API_KEY\")\n",
    "api_key = YOU_API_KEY\n",
    "\n",
    "# 1.初始化通义千问模型\n",
    "llm = ChatTongyi(model_name = \"qwen-turbo\",dashscope_api_key = api_key)\n",
    "\n",
    "# 2.读取数据\n",
    "file_path = 'kb.txt'\n",
    "loader = TextLoader(file_path,encoding=\"utf-8\")\n",
    "docs = loader.load()\n",
    "\n",
    "# 3.切分知识库文本：每300个字符切一块，块之间重叠20字符\n",
    "# 这是为了保证每块文本既不太大（方便检索），又有上下文（避免断句）\n",
    "text_splitter = CharacterTextSplitter(chunk_size = 300,chunk_overlap = 20)\n",
    "documents = text_splitter.split_documents(docs)\n",
    "\n",
    "# 4.初始化向量化工具：使用阿里的DashScope API,把文本块转化为向量\n",
    "embedding = DashScopeEmbeddings(dashscope_api_key = api_key)\n",
    "\n",
    "# 5. 用FAISS创建一个向量数据库，把所有文本块存进去\n",
    "# FAISS 负责做\"相似度检索\"，快速查找与用户提问最接近的内容块\n",
    "db = FAISS.from_documents(documents,embedding)\n",
    "\n",
    "# 6. 创建 RAG 问答链\n",
    "# RetrievalQA 就是 Langchain 内置的 RAG 实现\n",
    "# 先用FAISS 检索最相关的文本块，然后喂给大模型(qwen-turbo)生成最终回答\n",
    "qa = RetrievalQA.from_chain_type(\n",
    "    llm = llm, #大语言模型\n",
    "    chain_type = \"stuff\",# 简单的RAG模式，把检索到的文档直接拼接起来\n",
    "    retriever = db.as_retriever()# 检索器，负责查找相似知识块\n",
    ")\n",
    "\n",
    "# 7. 用户提问\n",
    "query = \"公司员工请假的流程是怎么样的？\"\n",
    "\n",
    "# 8. 调用QA链：先检索，再生成\n",
    "result = qa.invoke({\"query\":query})\n",
    "\n",
    "# 9. 打印回答\n",
    "print(result[\"result\"])"
   ]
  },
  {
   "cell_type": "code",
   "execution_count": 4,
   "metadata": {},
   "outputs": [
    {
     "name": "stdout",
     "output_type": "stream",
     "text": [
      "知识库问答系统 - Jupyter版本\n",
      "==================================================\n"
     ]
    },
    {
     "data": {
      "application/vnd.jupyter.widget-view+json": {
       "model_id": "5f1a57e6da504cdabe219c5f5bca9971",
       "version_major": 2,
       "version_minor": 0
      },
      "text/plain": [
       "Dropdown(description='文件路径:', options=('kb.txt', 'ab.txt'), value='kb.txt')"
      ]
     },
     "metadata": {},
     "output_type": "display_data"
    },
    {
     "data": {
      "application/vnd.jupyter.widget-view+json": {
       "model_id": "35ccb50d32254e77b2190afb70178844",
       "version_major": 2,
       "version_minor": 0
      },
      "text/plain": [
       "Dropdown(description='编码:', options=('utf-8', 'gbk', 'gb2312', 'ascii'), value='utf-8')"
      ]
     },
     "metadata": {},
     "output_type": "display_data"
    },
    {
     "data": {
      "application/vnd.jupyter.widget-view+json": {
       "model_id": "028fe50fdb2f41699945061d4af2acc8",
       "version_major": 2,
       "version_minor": 0
      },
      "text/plain": [
       "IntSlider(value=300, description='块大小:', max=1000, min=100, step=50)"
      ]
     },
     "metadata": {},
     "output_type": "display_data"
    },
    {
     "data": {
      "application/vnd.jupyter.widget-view+json": {
       "model_id": "5e9f432decd0412bb09976a4a683ab0f",
       "version_major": 2,
       "version_minor": 0
      },
      "text/plain": [
       "IntSlider(value=20, description='重叠:', step=5)"
      ]
     },
     "metadata": {},
     "output_type": "display_data"
    },
    {
     "data": {
      "application/vnd.jupyter.widget-view+json": {
       "model_id": "b056cf673fef4e3f8b1dcd1f5c98fd49",
       "version_major": 2,
       "version_minor": 0
      },
      "text/plain": [
       "Button(description='初始化系统', style=ButtonStyle())"
      ]
     },
     "metadata": {},
     "output_type": "display_data"
    },
    {
     "data": {
      "application/vnd.jupyter.widget-view+json": {
       "model_id": "492dc229d9274e3e811057cbe19f3d0e",
       "version_major": 2,
       "version_minor": 0
      },
      "text/plain": [
       "Output()"
      ]
     },
     "metadata": {},
     "output_type": "display_data"
    },
    {
     "data": {
      "application/vnd.jupyter.widget-view+json": {
       "model_id": "04d4858237a94c6695660491d4fbc1a2",
       "version_major": 2,
       "version_minor": 0
      },
      "text/plain": [
       "Output()"
      ]
     },
     "metadata": {},
     "output_type": "display_data"
    }
   ],
   "source": [
    "# 导入必要的库\n",
    "from langchain_community.chat_models import ChatTongyi\n",
    "from langchain_community.vectorstores import FAISS\n",
    "from langchain_community.embeddings import DashScopeEmbeddings\n",
    "from langchain_text_splitters import CharacterTextSplitter\n",
    "from langchain_community.document_loaders import TextLoader\n",
    "from langchain.chains import RetrievalQA\n",
    "from IPython.display import display, Markdown\n",
    "import ipywidgets as widgets\n",
    "from pathlib import Path\n",
    "import os\n",
    "\n",
    "YOU_API_KEY = os.environ.get(\"DASHSCOPE_API_KEY\")\n",
    "api_key = YOU_API_KEY\n",
    "\n",
    "# 创建交互式组件\n",
    "print(\"知识库问答系统 - Jupyter版本\")\n",
    "print(\"=\"*50)\n",
    "\n",
    "# 文件选择部件,widget.Dropdown-创建选择下拉框，可以放置所有文件，选择其中一个进行读取\n",
    "file_path_widget = widgets.Dropdown(\n",
    "    options=['kb.txt','ab.txt'],\n",
    "    value = 'kb.txt',\n",
    "    placeholder='输入文件路径',\n",
    "    description='文件路径:',\n",
    "    disabled=False\n",
    ")\n",
    "'''\n",
    "# widgets.Text-创建文本框，只能编辑文件路径，不可下拉选择文件\n",
    "file_path_widget = widgets.Text(\n",
    "    value = 'kb.txt',\n",
    "    placeholder='输入文件路径', # 文本为空时显示\n",
    "    description='文件路径:',\n",
    "    disabled=False\n",
    ")\n",
    "'''\n",
    "\n",
    "\n",
    "encoding_widget = widgets.Dropdown(\n",
    "    options=['utf-8', 'gbk', 'gb2312', 'ascii'],\n",
    "    value='utf-8',\n",
    "    description='编码:',\n",
    "    disabled=False\n",
    ")\n",
    "\n",
    "chunk_size_widget = widgets.IntSlider(\n",
    "    value=300,\n",
    "    min=100,\n",
    "    max=1000,\n",
    "    step=50,\n",
    "    description='块大小:',\n",
    "    disabled=False\n",
    ")\n",
    "\n",
    "chunk_overlap_widget = widgets.IntSlider(\n",
    "    value=20,\n",
    "    min=0,\n",
    "    max=100,\n",
    "    step=5,\n",
    "    description='重叠:',\n",
    "    disabled=False\n",
    ")\n",
    "\n",
    "# 显示部件\n",
    "display(file_path_widget)\n",
    "display(encoding_widget)\n",
    "display(chunk_size_widget)\n",
    "display(chunk_overlap_widget)\n",
    "\n",
    "# 初始化按钮\n",
    "button = widgets.Button(description=\"初始化系统\")\n",
    "output = widgets.Output()\n",
    "\n",
    "display(button, output)\n",
    "\n",
    "def on_button_clicked(b):\n",
    "    with output:\n",
    "        output.clear_output()\n",
    "        \n",
    "        file_path = file_path_widget.value\n",
    "        encoding = encoding_widget.value\n",
    "        chunk_size = chunk_size_widget.value\n",
    "        chunk_overlap = chunk_overlap_widget.value\n",
    "        \n",
    "        print(f\"正在初始化系统...\")\n",
    "        print(f\"文件路径: {file_path}\")\n",
    "        print(f\"编码: {encoding}\")\n",
    "        print(f\"块大小: {chunk_size}\")\n",
    "        print(f\"块重叠: {chunk_overlap}\")\n",
    "        print(\"-\" * 30)\n",
    "        \n",
    "        # 检查文件是否存在\n",
    "        if not os.path.exists(file_path):\n",
    "            print(f\"❌ 错误: 文件 '{file_path}' 不存在\")\n",
    "            return\n",
    "            \n",
    "        try:\n",
    "            # 尝试读取文件\n",
    "            with open(file_path, 'r', encoding=encoding) as f:\n",
    "                content = f.read()\n",
    "                \n",
    "            print(\"✅ 文件读取成功!\")\n",
    "            print(f\"文件大小: {len(content)} 字符\")\n",
    "            print(f\"行数: {len(content.splitlines())}\")\n",
    "            \n",
    "            # 初始化模型\n",
    "            print(\"正在初始化模型...\")\n",
    "            llm = ChatTongyi(model_name=\"qwen-turbo\", dashscope_api_key=api_key)\n",
    "            \n",
    "            # 加载和分割文档\n",
    "            print(\"正在处理文档...\")\n",
    "            loader = TextLoader(file_path, encoding=encoding)\n",
    "            docs = loader.load()\n",
    "            \n",
    "            text_splitter = CharacterTextSplitter(\n",
    "                chunk_size=chunk_size, \n",
    "                chunk_overlap=chunk_overlap\n",
    "            )\n",
    "            documents = text_splitter.split_documents(docs)\n",
    "            \n",
    "            print(f\"文档已分割为 {len(documents)} 个块\")\n",
    "            \n",
    "            # 创建嵌入和向量存储\n",
    "            print(\"正在创建向量数据库...\")\n",
    "            embeddings = DashScopeEmbeddings(model=\"text-embedding-v1\", dashscope_api_key=api_key)\n",
    "            vectorstore = FAISS.from_documents(documents, embeddings)\n",
    "            \n",
    "            # 创建检索链\n",
    "            qa_chain = RetrievalQA.from_chain_type(\n",
    "                llm=llm,\n",
    "                chain_type=\"stuff\",\n",
    "                retriever=vectorstore.as_retriever()\n",
    "            )\n",
    "            \n",
    "            print(\"✅ 系统初始化完成!\")\n",
    "            print(\"-\" * 30)\n",
    "            \n",
    "            # 保存QA链供后续使用\n",
    "            globals()['qa_chain'] = qa_chain\n",
    "            \n",
    "            # 显示前几个文档块\n",
    "            print(\"\\n文档块预览:\")\n",
    "            for i, doc in enumerate(documents[:3]):\n",
    "                print(f\"\\n--- 块 #{i+1} ---\")\n",
    "                print(doc.page_content[:200] + \"...\" if len(doc.page_content) > 200 else doc.page_content)\n",
    "                \n",
    "            if len(documents) > 3:\n",
    "                print(f\"\\n... 还有 {len(documents)-3} 个块未显示\")\n",
    "                \n",
    "            # 添加问题输入框\n",
    "            print(\"\\n🎯 现在您可以提问了!\")\n",
    "            question_input = widgets.Text(\n",
    "                placeholder='输入您的问题',\n",
    "                description='问题:',\n",
    "                disabled=False\n",
    "            )\n",
    "            \n",
    "            ask_button = widgets.Button(description=\"提问\")\n",
    "            answer_output = widgets.Output()\n",
    "            \n",
    "            display(question_input, ask_button, answer_output)\n",
    "            \n",
    "            def on_ask_clicked(b):\n",
    "                with answer_output:\n",
    "                    answer_output.clear_output()\n",
    "                    question = question_input.value\n",
    "                    if question:\n",
    "                        print(f\"问题: {question}\")\n",
    "                        print(\"正在思考...\")\n",
    "                        try:\n",
    "                            result = qa_chain.run(question)\n",
    "                            print(f\"答案: {result}\")\n",
    "                        except Exception as e:\n",
    "                            print(f\"❌ 出错: {str(e)}\")\n",
    "                    else:\n",
    "                        print(\"请输入问题\")\n",
    "            \n",
    "            ask_button.on_click(on_ask_clicked)\n",
    "            \n",
    "        except UnicodeDecodeError:\n",
    "            print(f\"❌ 编码错误: 无法使用 {encoding} 解码文件，请尝试其他编码\")\n",
    "        except Exception as e:\n",
    "            print(f\"❌ 初始化过程中出错: {str(e)}\")\n",
    "\n",
    "button.on_click(on_button_clicked)"
   ]
  }
 ],
 "metadata": {
  "kernelspec": {
   "display_name": "chatglm",
   "language": "python",
   "name": "python3"
  },
  "language_info": {
   "codemirror_mode": {
    "name": "ipython",
    "version": 3
   },
   "file_extension": ".py",
   "mimetype": "text/x-python",
   "name": "python",
   "nbconvert_exporter": "python",
   "pygments_lexer": "ipython3",
   "version": "3.10.18"
  }
 },
 "nbformat": 4,
 "nbformat_minor": 2
}
